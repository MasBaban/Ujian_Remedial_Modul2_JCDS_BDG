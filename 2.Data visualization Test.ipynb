{
 "cells": [
  {
   "cell_type": "code",
   "execution_count": 181,
   "metadata": {},
   "outputs": [],
   "source": [
    "import pandas as pd\n",
    "import pymysql\n",
    "import matplotlib\n",
    "import matplotlib.pyplot as plt\n",
    "import numpy as np\n",
    "import seaborn as sns\n",
    "import statistics as st\n",
    "from scipy import stats\n",
    "import sqlalchemy as db\n",
    "import mysql.connector\n",
    "from scipy.stats import mode, skew, f_oneway"
   ]
  },
  {
   "cell_type": "code",
   "execution_count": 4,
   "metadata": {},
   "outputs": [],
   "source": [
    "con = mysql.connector.connect(\n",
    "    host='localhost',\n",
    "    user='root',\n",
    "    passwd='masbaban737'\n",
    ")"
   ]
  },
  {
   "cell_type": "code",
   "execution_count": 5,
   "metadata": {},
   "outputs": [
    {
     "data": {
      "text/plain": [
       "<mysql.connector.connection_cext.CMySQLConnection at 0x1b5ba821d00>"
      ]
     },
     "execution_count": 5,
     "metadata": {},
     "output_type": "execute_result"
    }
   ],
   "source": [
    "con"
   ]
  },
  {
   "cell_type": "code",
   "execution_count": 6,
   "metadata": {},
   "outputs": [],
   "source": [
    "c = con.cursor()\n",
    "q = 'USE world'\n",
    "c.execute(q)"
   ]
  },
  {
   "cell_type": "code",
   "execution_count": 10,
   "metadata": {},
   "outputs": [],
   "source": [
    "c = con.cursor()\n",
    "city = 'SELECT * FROM city'\n",
    "c.execute(city)\n",
    "res = c.fetchall()\n",
    "city = pd.DataFrame(res, columns=c.column_names)"
   ]
  },
  {
   "cell_type": "code",
   "execution_count": 8,
   "metadata": {},
   "outputs": [],
   "source": [
    "c = con.cursor()\n",
    "country = 'SELECT * FROM country'\n",
    "c.execute(country)\n",
    "res = c.fetchall()\n",
    "country = pd.DataFrame(res, columns=c.column_names)"
   ]
  },
  {
   "cell_type": "code",
   "execution_count": 9,
   "metadata": {},
   "outputs": [],
   "source": [
    "c = con.cursor()\n",
    "cl = 'SELECT * FROM countrylanguage'\n",
    "c.execute(cl)\n",
    "res = c.fetchall()\n",
    "countrylanguage = pd.DataFrame(res, columns=c.column_names)"
   ]
  },
  {
   "cell_type": "markdown",
   "metadata": {},
   "source": [
    "## no.1.1"
   ]
  },
  {
   "cell_type": "code",
   "execution_count": 12,
   "metadata": {},
   "outputs": [
    {
     "data": {
      "text/html": [
       "<div>\n",
       "<style scoped>\n",
       "    .dataframe tbody tr th:only-of-type {\n",
       "        vertical-align: middle;\n",
       "    }\n",
       "\n",
       "    .dataframe tbody tr th {\n",
       "        vertical-align: top;\n",
       "    }\n",
       "\n",
       "    .dataframe thead th {\n",
       "        text-align: right;\n",
       "    }\n",
       "</style>\n",
       "<table border=\"1\" class=\"dataframe\">\n",
       "  <thead>\n",
       "    <tr style=\"text-align: right;\">\n",
       "      <th></th>\n",
       "      <th>Name</th>\n",
       "      <th>Continent</th>\n",
       "      <th>Region</th>\n",
       "      <th>IndepYear</th>\n",
       "      <th>Population</th>\n",
       "    </tr>\n",
       "  </thead>\n",
       "  <tbody>\n",
       "    <tr>\n",
       "      <th>34</th>\n",
       "      <td>Bouvet Island</td>\n",
       "      <td>Antarctica</td>\n",
       "      <td>Antarctica</td>\n",
       "      <td>NaN</td>\n",
       "      <td>0</td>\n",
       "    </tr>\n",
       "    <tr>\n",
       "      <th>100</th>\n",
       "      <td>British Indian Ocean Territory</td>\n",
       "      <td>Africa</td>\n",
       "      <td>Eastern Africa</td>\n",
       "      <td>NaN</td>\n",
       "      <td>0</td>\n",
       "    </tr>\n",
       "    <tr>\n",
       "      <th>187</th>\n",
       "      <td>South Georgia and the South Sandwich Islands</td>\n",
       "      <td>Antarctica</td>\n",
       "      <td>Antarctica</td>\n",
       "      <td>NaN</td>\n",
       "      <td>0</td>\n",
       "    </tr>\n",
       "    <tr>\n",
       "      <th>11</th>\n",
       "      <td>Antarctica</td>\n",
       "      <td>Antarctica</td>\n",
       "      <td>Antarctica</td>\n",
       "      <td>NaN</td>\n",
       "      <td>0</td>\n",
       "    </tr>\n",
       "    <tr>\n",
       "      <th>12</th>\n",
       "      <td>French Southern territories</td>\n",
       "      <td>Antarctica</td>\n",
       "      <td>Antarctica</td>\n",
       "      <td>NaN</td>\n",
       "      <td>0</td>\n",
       "    </tr>\n",
       "    <tr>\n",
       "      <th>221</th>\n",
       "      <td>United States Minor Outlying Islands</td>\n",
       "      <td>Oceania</td>\n",
       "      <td>Micronesia/Caribbean</td>\n",
       "      <td>NaN</td>\n",
       "      <td>0</td>\n",
       "    </tr>\n",
       "    <tr>\n",
       "      <th>93</th>\n",
       "      <td>Heard Island and McDonald Islands</td>\n",
       "      <td>Antarctica</td>\n",
       "      <td>Antarctica</td>\n",
       "      <td>NaN</td>\n",
       "      <td>0</td>\n",
       "    </tr>\n",
       "    <tr>\n",
       "      <th>166</th>\n",
       "      <td>Pitcairn</td>\n",
       "      <td>Oceania</td>\n",
       "      <td>Polynesia</td>\n",
       "      <td>NaN</td>\n",
       "      <td>50</td>\n",
       "    </tr>\n",
       "    <tr>\n",
       "      <th>38</th>\n",
       "      <td>Cocos (Keeling) Islands</td>\n",
       "      <td>Oceania</td>\n",
       "      <td>Australia and New Zealand</td>\n",
       "      <td>NaN</td>\n",
       "      <td>600</td>\n",
       "    </tr>\n",
       "    <tr>\n",
       "      <th>225</th>\n",
       "      <td>Holy See (Vatican City State)</td>\n",
       "      <td>Europe</td>\n",
       "      <td>Southern Europe</td>\n",
       "      <td>1929.0</td>\n",
       "      <td>1000</td>\n",
       "    </tr>\n",
       "  </tbody>\n",
       "</table>\n",
       "</div>"
      ],
      "text/plain": [
       "                                             Name   Continent  \\\n",
       "34                                  Bouvet Island  Antarctica   \n",
       "100                British Indian Ocean Territory      Africa   \n",
       "187  South Georgia and the South Sandwich Islands  Antarctica   \n",
       "11                                     Antarctica  Antarctica   \n",
       "12                    French Southern territories  Antarctica   \n",
       "221          United States Minor Outlying Islands     Oceania   \n",
       "93              Heard Island and McDonald Islands  Antarctica   \n",
       "166                                      Pitcairn     Oceania   \n",
       "38                        Cocos (Keeling) Islands     Oceania   \n",
       "225                 Holy See (Vatican City State)      Europe   \n",
       "\n",
       "                        Region  IndepYear  Population  \n",
       "34                  Antarctica        NaN           0  \n",
       "100             Eastern Africa        NaN           0  \n",
       "187                 Antarctica        NaN           0  \n",
       "11                  Antarctica        NaN           0  \n",
       "12                  Antarctica        NaN           0  \n",
       "221       Micronesia/Caribbean        NaN           0  \n",
       "93                  Antarctica        NaN           0  \n",
       "166                  Polynesia        NaN          50  \n",
       "38   Australia and New Zealand        NaN         600  \n",
       "225            Southern Europe     1929.0        1000  "
      ]
     },
     "execution_count": 12,
     "metadata": {},
     "output_type": "execute_result"
    }
   ],
   "source": [
    "country.sort_values('Population').head(10)[['Name','Continent','Region','IndepYear','Population']]"
   ]
  },
  {
   "cell_type": "markdown",
   "metadata": {},
   "source": [
    "## no.1.2"
   ]
  },
  {
   "cell_type": "code",
   "execution_count": 13,
   "metadata": {},
   "outputs": [
    {
     "data": {
      "text/html": [
       "<div>\n",
       "<style scoped>\n",
       "    .dataframe tbody tr th:only-of-type {\n",
       "        vertical-align: middle;\n",
       "    }\n",
       "\n",
       "    .dataframe tbody tr th {\n",
       "        vertical-align: top;\n",
       "    }\n",
       "\n",
       "    .dataframe thead th {\n",
       "        text-align: right;\n",
       "    }\n",
       "</style>\n",
       "<table border=\"1\" class=\"dataframe\">\n",
       "  <thead>\n",
       "    <tr style=\"text-align: right;\">\n",
       "      <th></th>\n",
       "      <th>mean</th>\n",
       "    </tr>\n",
       "    <tr>\n",
       "      <th>CountryCode</th>\n",
       "      <th></th>\n",
       "    </tr>\n",
       "  </thead>\n",
       "  <tbody>\n",
       "    <tr>\n",
       "      <th>SGP</th>\n",
       "      <td>4017733.0</td>\n",
       "    </tr>\n",
       "    <tr>\n",
       "      <th>HKG</th>\n",
       "      <td>1650316.5</td>\n",
       "    </tr>\n",
       "    <tr>\n",
       "      <th>URY</th>\n",
       "      <td>1236000.0</td>\n",
       "    </tr>\n",
       "    <tr>\n",
       "      <th>GIN</th>\n",
       "      <td>1090610.0</td>\n",
       "    </tr>\n",
       "    <tr>\n",
       "      <th>UGA</th>\n",
       "      <td>890800.0</td>\n",
       "    </tr>\n",
       "    <tr>\n",
       "      <th>SLE</th>\n",
       "      <td>850000.0</td>\n",
       "    </tr>\n",
       "    <tr>\n",
       "      <th>LBR</th>\n",
       "      <td>850000.0</td>\n",
       "    </tr>\n",
       "    <tr>\n",
       "      <th>MLI</th>\n",
       "      <td>809552.0</td>\n",
       "    </tr>\n",
       "    <tr>\n",
       "      <th>AUS</th>\n",
       "      <td>808119.0</td>\n",
       "    </tr>\n",
       "    <tr>\n",
       "      <th>MNG</th>\n",
       "      <td>773700.0</td>\n",
       "    </tr>\n",
       "  </tbody>\n",
       "</table>\n",
       "</div>"
      ],
      "text/plain": [
       "                  mean\n",
       "CountryCode           \n",
       "SGP          4017733.0\n",
       "HKG          1650316.5\n",
       "URY          1236000.0\n",
       "GIN          1090610.0\n",
       "UGA           890800.0\n",
       "SLE           850000.0\n",
       "LBR           850000.0\n",
       "MLI           809552.0\n",
       "AUS           808119.0\n",
       "MNG           773700.0"
      ]
     },
     "execution_count": 13,
     "metadata": {},
     "output_type": "execute_result"
    }
   ],
   "source": [
    "city.groupby('CountryCode').describe()['Population'][['mean']].sort_values('mean',ascending=False).head(10)"
   ]
  },
  {
   "cell_type": "markdown",
   "metadata": {},
   "source": [
    "## no.1.3"
   ]
  },
  {
   "cell_type": "code",
   "execution_count": 14,
   "metadata": {},
   "outputs": [
    {
     "data": {
      "text/html": [
       "<div>\n",
       "<style scoped>\n",
       "    .dataframe tbody tr th:only-of-type {\n",
       "        vertical-align: middle;\n",
       "    }\n",
       "\n",
       "    .dataframe tbody tr th {\n",
       "        vertical-align: top;\n",
       "    }\n",
       "\n",
       "    .dataframe thead th {\n",
       "        text-align: right;\n",
       "    }\n",
       "</style>\n",
       "<table border=\"1\" class=\"dataframe\">\n",
       "  <thead>\n",
       "    <tr style=\"text-align: right;\">\n",
       "      <th></th>\n",
       "      <th>count</th>\n",
       "    </tr>\n",
       "    <tr>\n",
       "      <th>Language</th>\n",
       "      <th></th>\n",
       "    </tr>\n",
       "  </thead>\n",
       "  <tbody>\n",
       "    <tr>\n",
       "      <th>English</th>\n",
       "      <td>60</td>\n",
       "    </tr>\n",
       "    <tr>\n",
       "      <th>Arabic</th>\n",
       "      <td>33</td>\n",
       "    </tr>\n",
       "    <tr>\n",
       "      <th>Spanish</th>\n",
       "      <td>28</td>\n",
       "    </tr>\n",
       "    <tr>\n",
       "      <th>French</th>\n",
       "      <td>25</td>\n",
       "    </tr>\n",
       "    <tr>\n",
       "      <th>Chinese</th>\n",
       "      <td>19</td>\n",
       "    </tr>\n",
       "    <tr>\n",
       "      <th>German</th>\n",
       "      <td>19</td>\n",
       "    </tr>\n",
       "    <tr>\n",
       "      <th>Russian</th>\n",
       "      <td>17</td>\n",
       "    </tr>\n",
       "    <tr>\n",
       "      <th>Italian</th>\n",
       "      <td>15</td>\n",
       "    </tr>\n",
       "    <tr>\n",
       "      <th>Creole English</th>\n",
       "      <td>14</td>\n",
       "    </tr>\n",
       "    <tr>\n",
       "      <th>Ful</th>\n",
       "      <td>12</td>\n",
       "    </tr>\n",
       "  </tbody>\n",
       "</table>\n",
       "</div>"
      ],
      "text/plain": [
       "               count\n",
       "Language            \n",
       "English           60\n",
       "Arabic            33\n",
       "Spanish           28\n",
       "French            25\n",
       "Chinese           19\n",
       "German            19\n",
       "Russian           17\n",
       "Italian           15\n",
       "Creole English    14\n",
       "Ful               12"
      ]
     },
     "execution_count": 14,
     "metadata": {},
     "output_type": "execute_result"
    }
   ],
   "source": [
    "countrylanguage.groupby('Language').describe()['Percentage'][['count']].sort_values('count',ascending=False).head(10)"
   ]
  },
  {
   "cell_type": "code",
   "execution_count": 31,
   "metadata": {},
   "outputs": [
    {
     "data": {
      "text/html": [
       "<div>\n",
       "<style scoped>\n",
       "    .dataframe tbody tr th:only-of-type {\n",
       "        vertical-align: middle;\n",
       "    }\n",
       "\n",
       "    .dataframe tbody tr th {\n",
       "        vertical-align: top;\n",
       "    }\n",
       "\n",
       "    .dataframe thead th {\n",
       "        text-align: right;\n",
       "    }\n",
       "</style>\n",
       "<table border=\"1\" class=\"dataframe\">\n",
       "  <thead>\n",
       "    <tr style=\"text-align: right;\">\n",
       "      <th></th>\n",
       "      <th>Continent</th>\n",
       "      <th>Population</th>\n",
       "    </tr>\n",
       "  </thead>\n",
       "  <tbody>\n",
       "    <tr>\n",
       "      <th>0</th>\n",
       "      <td>Africa</td>\n",
       "      <td>784475000</td>\n",
       "    </tr>\n",
       "    <tr>\n",
       "      <th>1</th>\n",
       "      <td>Antarctica</td>\n",
       "      <td>0</td>\n",
       "    </tr>\n",
       "    <tr>\n",
       "      <th>2</th>\n",
       "      <td>Asia</td>\n",
       "      <td>3705025700</td>\n",
       "    </tr>\n",
       "    <tr>\n",
       "      <th>3</th>\n",
       "      <td>Europe</td>\n",
       "      <td>730074600</td>\n",
       "    </tr>\n",
       "    <tr>\n",
       "      <th>4</th>\n",
       "      <td>North America</td>\n",
       "      <td>482993000</td>\n",
       "    </tr>\n",
       "    <tr>\n",
       "      <th>5</th>\n",
       "      <td>Oceania</td>\n",
       "      <td>30401150</td>\n",
       "    </tr>\n",
       "    <tr>\n",
       "      <th>6</th>\n",
       "      <td>South America</td>\n",
       "      <td>345780000</td>\n",
       "    </tr>\n",
       "  </tbody>\n",
       "</table>\n",
       "</div>"
      ],
      "text/plain": [
       "       Continent  Population\n",
       "0         Africa   784475000\n",
       "1     Antarctica           0\n",
       "2           Asia  3705025700\n",
       "3         Europe   730074600\n",
       "4  North America   482993000\n",
       "5        Oceania    30401150\n",
       "6  South America   345780000"
      ]
     },
     "execution_count": 31,
     "metadata": {},
     "output_type": "execute_result"
    }
   ],
   "source": [
    "benua = country.groupby('Continent').sum()[['Population']]\n",
    "benua.rename(columns={'Continent' : 'Benua'}, inplace=True)\n",
    "benua.reset_index(inplace=True)\n",
    "benua"
   ]
  },
  {
   "cell_type": "code",
   "execution_count": 52,
   "metadata": {},
   "outputs": [
    {
     "data": {
      "image/png": "[encoded data removed]",
      "text/plain": [
       "<Figure size 576x396 with 1 Axes>"
      ]
     },
     "metadata": {},
     "output_type": "display_data"
    }
   ],
   "source": [
    "data = list(continent['Population'])\n",
    "labels = list(continent['Population'].index)\n",
    "plt.pie(data, labels= labels,\n",
    "        startangle=90, autopct=lambda p:f'{p:.2f}%')\n",
    "\n",
    "plt.title(\"Populasi Benua\")\n",
    "plt.tight_layout()\n",
    "plt.axis('equal')\n",
    "plt.show()"
   ]
  },
  {
   "cell_type": "markdown",
   "metadata": {},
   "source": [
    "# JAWABAN #\n",
    " 2.1 Berdasarkan piechart diatas, benua asia yang paling besar presentasenya dengan nilai =  60.95%\n",
    " \n",
    " 2.2 sementara presentase benua amerika utara adalah 7,95%"
   ]
  },
  {
   "cell_type": "markdown",
   "metadata": {},
   "source": [
    "# no. 3"
   ]
  },
  {
   "cell_type": "code",
   "execution_count": 34,
   "metadata": {},
   "outputs": [
    {
     "data": {
      "text/html": [
       "<div>\n",
       "<style scoped>\n",
       "    .dataframe tbody tr th:only-of-type {\n",
       "        vertical-align: middle;\n",
       "    }\n",
       "\n",
       "    .dataframe tbody tr th {\n",
       "        vertical-align: top;\n",
       "    }\n",
       "\n",
       "    .dataframe thead th {\n",
       "        text-align: right;\n",
       "    }\n",
       "</style>\n",
       "<table border=\"1\" class=\"dataframe\">\n",
       "  <thead>\n",
       "    <tr style=\"text-align: right;\">\n",
       "      <th></th>\n",
       "      <th>Code</th>\n",
       "      <th>Name</th>\n",
       "      <th>Continent</th>\n",
       "      <th>Region</th>\n",
       "      <th>SurfaceArea</th>\n",
       "      <th>IndepYear</th>\n",
       "      <th>Population</th>\n",
       "      <th>LifeExpectancy</th>\n",
       "      <th>GNP</th>\n",
       "      <th>GNPOld</th>\n",
       "      <th>LocalName</th>\n",
       "      <th>GovernmentForm</th>\n",
       "      <th>HeadOfState</th>\n",
       "      <th>Capital</th>\n",
       "      <th>Code2</th>\n",
       "    </tr>\n",
       "  </thead>\n",
       "  <tbody>\n",
       "    <tr>\n",
       "      <th>0</th>\n",
       "      <td>ABW</td>\n",
       "      <td>Aruba</td>\n",
       "      <td>North America</td>\n",
       "      <td>Caribbean</td>\n",
       "      <td>193.00</td>\n",
       "      <td>NaN</td>\n",
       "      <td>103000</td>\n",
       "      <td>78.4</td>\n",
       "      <td>828.00</td>\n",
       "      <td>793.00</td>\n",
       "      <td>Aruba</td>\n",
       "      <td>Nonmetropolitan Territory of The Netherlands</td>\n",
       "      <td>Beatrix</td>\n",
       "      <td>129.0</td>\n",
       "      <td>AW</td>\n",
       "    </tr>\n",
       "    <tr>\n",
       "      <th>1</th>\n",
       "      <td>AFG</td>\n",
       "      <td>Afghanistan</td>\n",
       "      <td>Asia</td>\n",
       "      <td>Southern and Central Asia</td>\n",
       "      <td>652090.00</td>\n",
       "      <td>1919.0</td>\n",
       "      <td>22720000</td>\n",
       "      <td>45.9</td>\n",
       "      <td>5976.00</td>\n",
       "      <td>None</td>\n",
       "      <td>Afganistan/Afqanestan</td>\n",
       "      <td>Islamic Emirate</td>\n",
       "      <td>Mohammad Omar</td>\n",
       "      <td>1.0</td>\n",
       "      <td>AF</td>\n",
       "    </tr>\n",
       "    <tr>\n",
       "      <th>2</th>\n",
       "      <td>AGO</td>\n",
       "      <td>Angola</td>\n",
       "      <td>Africa</td>\n",
       "      <td>Central Africa</td>\n",
       "      <td>1246700.00</td>\n",
       "      <td>1975.0</td>\n",
       "      <td>12878000</td>\n",
       "      <td>38.3</td>\n",
       "      <td>6648.00</td>\n",
       "      <td>7984.00</td>\n",
       "      <td>Angola</td>\n",
       "      <td>Republic</td>\n",
       "      <td>José Eduardo dos Santos</td>\n",
       "      <td>56.0</td>\n",
       "      <td>AO</td>\n",
       "    </tr>\n",
       "    <tr>\n",
       "      <th>3</th>\n",
       "      <td>AIA</td>\n",
       "      <td>Anguilla</td>\n",
       "      <td>North America</td>\n",
       "      <td>Caribbean</td>\n",
       "      <td>96.00</td>\n",
       "      <td>NaN</td>\n",
       "      <td>8000</td>\n",
       "      <td>76.1</td>\n",
       "      <td>63.20</td>\n",
       "      <td>None</td>\n",
       "      <td>Anguilla</td>\n",
       "      <td>Dependent Territory of the UK</td>\n",
       "      <td>Elisabeth II</td>\n",
       "      <td>62.0</td>\n",
       "      <td>AI</td>\n",
       "    </tr>\n",
       "    <tr>\n",
       "      <th>4</th>\n",
       "      <td>ALB</td>\n",
       "      <td>Albania</td>\n",
       "      <td>Europe</td>\n",
       "      <td>Southern Europe</td>\n",
       "      <td>28748.00</td>\n",
       "      <td>1912.0</td>\n",
       "      <td>3401200</td>\n",
       "      <td>71.6</td>\n",
       "      <td>3205.00</td>\n",
       "      <td>2500.00</td>\n",
       "      <td>Shqipëria</td>\n",
       "      <td>Republic</td>\n",
       "      <td>Rexhep Mejdani</td>\n",
       "      <td>34.0</td>\n",
       "      <td>AL</td>\n",
       "    </tr>\n",
       "  </tbody>\n",
       "</table>\n",
       "</div>"
      ],
      "text/plain": [
       "  Code         Name      Continent                     Region SurfaceArea  \\\n",
       "0  ABW        Aruba  North America                  Caribbean      193.00   \n",
       "1  AFG  Afghanistan           Asia  Southern and Central Asia   652090.00   \n",
       "2  AGO       Angola         Africa             Central Africa  1246700.00   \n",
       "3  AIA     Anguilla  North America                  Caribbean       96.00   \n",
       "4  ALB      Albania         Europe            Southern Europe    28748.00   \n",
       "\n",
       "   IndepYear  Population LifeExpectancy      GNP   GNPOld  \\\n",
       "0        NaN      103000           78.4   828.00   793.00   \n",
       "1     1919.0    22720000           45.9  5976.00     None   \n",
       "2     1975.0    12878000           38.3  6648.00  7984.00   \n",
       "3        NaN        8000           76.1    63.20     None   \n",
       "4     1912.0     3401200           71.6  3205.00  2500.00   \n",
       "\n",
       "               LocalName                                GovernmentForm  \\\n",
       "0                  Aruba  Nonmetropolitan Territory of The Netherlands   \n",
       "1  Afganistan/Afqanestan                               Islamic Emirate   \n",
       "2                 Angola                                      Republic   \n",
       "3               Anguilla                 Dependent Territory of the UK   \n",
       "4              Shqipëria                                      Republic   \n",
       "\n",
       "               HeadOfState  Capital Code2  \n",
       "0                  Beatrix    129.0    AW  \n",
       "1            Mohammad Omar      1.0    AF  \n",
       "2  José Eduardo dos Santos     56.0    AO  \n",
       "3             Elisabeth II     62.0    AI  \n",
       "4           Rexhep Mejdani     34.0    AL  "
      ]
     },
     "execution_count": 34,
     "metadata": {},
     "output_type": "execute_result"
    }
   ],
   "source": [
    "country.head(5)"
   ]
  },
  {
   "cell_type": "code",
   "execution_count": 55,
   "metadata": {},
   "outputs": [
    {
     "data": {
      "text/html": [
       "<div>\n",
       "<style scoped>\n",
       "    .dataframe tbody tr th:only-of-type {\n",
       "        vertical-align: middle;\n",
       "    }\n",
       "\n",
       "    .dataframe tbody tr th {\n",
       "        vertical-align: top;\n",
       "    }\n",
       "\n",
       "    .dataframe thead th {\n",
       "        text-align: right;\n",
       "    }\n",
       "</style>\n",
       "<table border=\"1\" class=\"dataframe\">\n",
       "  <thead>\n",
       "    <tr style=\"text-align: right;\">\n",
       "      <th></th>\n",
       "      <th>Name</th>\n",
       "      <th>Population</th>\n",
       "    </tr>\n",
       "  </thead>\n",
       "  <tbody>\n",
       "    <tr>\n",
       "      <th>41</th>\n",
       "      <td>China</td>\n",
       "      <td>1277558000</td>\n",
       "    </tr>\n",
       "    <tr>\n",
       "      <th>99</th>\n",
       "      <td>India</td>\n",
       "      <td>1013662000</td>\n",
       "    </tr>\n",
       "    <tr>\n",
       "      <th>98</th>\n",
       "      <td>Indonesia</td>\n",
       "      <td>212107000</td>\n",
       "    </tr>\n",
       "    <tr>\n",
       "      <th>164</th>\n",
       "      <td>Pakistan</td>\n",
       "      <td>156483000</td>\n",
       "    </tr>\n",
       "    <tr>\n",
       "      <th>21</th>\n",
       "      <td>Bangladesh</td>\n",
       "      <td>129155000</td>\n",
       "    </tr>\n",
       "    <tr>\n",
       "      <th>109</th>\n",
       "      <td>Japan</td>\n",
       "      <td>126714000</td>\n",
       "    </tr>\n",
       "    <tr>\n",
       "      <th>230</th>\n",
       "      <td>Vietnam</td>\n",
       "      <td>79832000</td>\n",
       "    </tr>\n",
       "    <tr>\n",
       "      <th>168</th>\n",
       "      <td>Philippines</td>\n",
       "      <td>75967000</td>\n",
       "    </tr>\n",
       "    <tr>\n",
       "      <th>102</th>\n",
       "      <td>Iran</td>\n",
       "      <td>67702000</td>\n",
       "    </tr>\n",
       "    <tr>\n",
       "      <th>215</th>\n",
       "      <td>Turkey</td>\n",
       "      <td>66591000</td>\n",
       "    </tr>\n",
       "  </tbody>\n",
       "</table>\n",
       "</div>"
      ],
      "text/plain": [
       "            Name  Population\n",
       "41         China  1277558000\n",
       "99         India  1013662000\n",
       "98     Indonesia   212107000\n",
       "164     Pakistan   156483000\n",
       "21    Bangladesh   129155000\n",
       "109        Japan   126714000\n",
       "230      Vietnam    79832000\n",
       "168  Philippines    75967000\n",
       "102         Iran    67702000\n",
       "215       Turkey    66591000"
      ]
     },
     "execution_count": 55,
     "metadata": {},
     "output_type": "execute_result"
    }
   ],
   "source": [
    "country[country['Continent']=='Asia'].sort_values('Population',ascending=False)[['Name','Population']].head(10)"
   ]
  },
  {
   "cell_type": "code",
   "execution_count": 57,
   "metadata": {},
   "outputs": [
    {
     "data": {
      "image/png": "[encoded data removed]",
      "text/plain": [
       "<Figure size 576x396 with 1 Axes>"
      ]
     },
     "metadata": {},
     "output_type": "display_data"
    }
   ],
   "source": [
    "sns.set(style=\"whitegrid\")\n",
    "plt.style.use('seaborn')\n",
    "fig, ax = plt.subplots()\n",
    "y = list(country[country['Continent']=='Asia'].sort_values('Population',ascending=False)['Name'].head(10))\n",
    "y_pos = np.arange(len(y))\n",
    "x = list(country[country['Continent']=='Asia'].sort_values('Population',ascending=False)['Population'].head(10))\n",
    "ax = sns.barplot(x=x, y=y)\n",
    "ax.set_yticklabels(y)\n",
    "ax.set_xlabel('POPULASI')\n",
    "for a in y_pos :\n",
    "    plt.text(10000000,a,f'Total Population : {x[a]}')\n",
    "plt.show()"
   ]
  },
  {
   "cell_type": "markdown",
   "metadata": {},
   "source": [
    "# JAWABAN \n",
    "3.2 negara dengan populasi terbanyak adlah china dengan jumlah penduduk 1.277.558.000\n",
    "\n",
    "3.3 negara dengan populasi paling sedikit adalah turkey dengan jumlah penduduk 66.591.000\n",
    "\n",
    "3.4 negara di urutan ke-3 adalah indonesia dengan jumlah penduduk 212.107.000"
   ]
  },
  {
   "cell_type": "markdown",
   "metadata": {},
   "source": [
    "# no.4"
   ]
  },
  {
   "cell_type": "code",
   "execution_count": 68,
   "metadata": {},
   "outputs": [
    {
     "data": {
      "text/plain": [
       "1      45.9\n",
       "7      74.1\n",
       "9      66.4\n",
       "16     62.9\n",
       "21     60.2\n",
       "23     73.0\n",
       "32     73.6\n",
       "33     52.4\n",
       "41     71.4\n",
       "54     76.7\n",
       "77     64.5\n",
       "92     79.5\n",
       "98     68.0\n",
       "99     62.5\n",
       "102    69.7\n",
       "103    66.5\n",
       "105    78.6\n",
       "108    77.4\n",
       "109    80.7\n",
       "110    63.2\n",
       "112    63.4\n",
       "113    56.5\n",
       "116    74.4\n",
       "117    76.1\n",
       "118    53.1\n",
       "119    71.3\n",
       "124    71.8\n",
       "129    81.6\n",
       "134    62.2\n",
       "140    54.9\n",
       "141    67.3\n",
       "149    70.8\n",
       "160    57.8\n",
       "163    71.8\n",
       "164    61.1\n",
       "168    67.5\n",
       "173    70.7\n",
       "176    71.4\n",
       "178    72.4\n",
       "183    67.8\n",
       "186    80.1\n",
       "203    68.5\n",
       "207    68.6\n",
       "208    64.1\n",
       "210    60.9\n",
       "211    46.0\n",
       "215    71.0\n",
       "217    76.4\n",
       "224    63.7\n",
       "230    69.3\n",
       "234    59.8\n",
       "Name: LifeExpectancy, dtype: object"
      ]
     },
     "execution_count": 68,
     "metadata": {},
     "output_type": "execute_result"
    }
   ],
   "source": [
    "df_life = country[country['Continent']=='Asia']['LifeExpectancy']\n",
    "df_life"
   ]
  },
  {
   "cell_type": "code",
   "execution_count": 76,
   "metadata": {},
   "outputs": [
    {
     "data": {
      "text/plain": [
       "count    51.000000\n",
       "mean     67.441176\n",
       "std       8.396527\n",
       "min      45.900000\n",
       "25%      62.700000\n",
       "50%      68.500000\n",
       "75%      72.700000\n",
       "max      81.600000\n",
       "Name: LifeExpectancy, dtype: float64"
      ]
     },
     "execution_count": 76,
     "metadata": {},
     "output_type": "execute_result"
    }
   ],
   "source": [
    "df_life = df_life.astype(float)\n",
    "df_life.describe()"
   ]
  },
  {
   "cell_type": "code",
   "execution_count": 77,
   "metadata": {},
   "outputs": [
    {
     "data": {
      "text/plain": [
       "1     45.9\n",
       "7     74.1\n",
       "9     66.4\n",
       "16    62.9\n",
       "21    60.2\n",
       "Name: LifeExpectancy, dtype: float64"
      ]
     },
     "execution_count": 77,
     "metadata": {},
     "output_type": "execute_result"
    }
   ],
   "source": [
    "df_life.head(5)"
   ]
  },
  {
   "cell_type": "code",
   "execution_count": 79,
   "metadata": {},
   "outputs": [
    {
     "name": "stdout",
     "output_type": "stream",
     "text": [
      "IQR Benua Asia = 10.0\n"
     ]
    }
   ],
   "source": [
    "q3 = np.quantile(df_life, .75)\n",
    "q1 = np.quantile(df_life, .25)\n",
    "iqr = q3 - q1\n",
    "print(f'IQR Benua Asia = {iqr}')"
   ]
  },
  {
   "cell_type": "code",
   "execution_count": 86,
   "metadata": {},
   "outputs": [
    {
     "name": "stdout",
     "output_type": "stream",
     "text": [
      "mean               = 67.44117647058825\n",
      "median             = 68.5\n",
      "standart deviation = 8.39652729336571\n",
      "upper whisker      = 87.7\n",
      "lower whisker      = 47.7\n",
      "skewness           = -1.810788593529504\n"
     ]
    }
   ],
   "source": [
    "mean = np.mean(df_life)\n",
    "median = np.median(df_life)\n",
    "std = st.stdev(df_life)\n",
    "upper = q3 + 1.5*iqr\n",
    "lower = q1 - 1.5*iqr\n",
    "skew, p_value = stats.skewtest(df_life)\n",
    "print(f'mean               = {mean}')\n",
    "print(f'median             = {median}')\n",
    "print(f'standart deviation = {std}')\n",
    "print(f'upper whisker      = {upper}')\n",
    "print(f'lower whisker      = {lower}')\n",
    "print(f'skewness           = {skew}')"
   ]
  },
  {
   "cell_type": "code",
   "execution_count": 92,
   "metadata": {},
   "outputs": [
    {
     "name": "stderr",
     "output_type": "stream",
     "text": [
      "D:\\ANACONDA\\lib\\site-packages\\seaborn\\distributions.py:2551: FutureWarning: `distplot` is a deprecated function and will be removed in a future version. Please adapt your code to use either `displot` (a figure-level function with similar flexibility) or `histplot` (an axes-level function for histograms).\n",
      "  warnings.warn(msg, FutureWarning)\n"
     ]
    },
    {
     "data": {
      "image/png": "[encoded data removed]",
      "text/plain": [
       "<Figure size 576x720 with 1 Axes>"
      ]
     },
     "metadata": {},
     "output_type": "display_data"
    }
   ],
   "source": [
    "plt.figure(figsize=(8,10))\n",
    "ax = sns.distplot(df_life, kde_kws={\"color\": \"k\", \"lw\": 3, \"label\": \"KDE\"},\n",
    "                  hist_kws={\"alpha\": 0.7, \"color\": \"lightblue\"})\n",
    "\n",
    "plt.axvline(mean, color='red', label='Mean', linewidth=2)\n",
    "plt.axvline(median, color='blue', label='Median', linewidth=2)\n",
    "plt.axvline(upper, color='green', label='Upper Boundaries', linewidth=2)\n",
    "plt.axvline(lower, color='yellow', label='Lower Boundaries', linewidth=2)\n",
    "plt.legend()\n",
    "\n",
    "plt.show()"
   ]
  },
  {
   "cell_type": "code",
   "execution_count": 91,
   "metadata": {},
   "outputs": [
    {
     "data": {
      "text/html": [
       "<div>\n",
       "<style scoped>\n",
       "    .dataframe tbody tr th:only-of-type {\n",
       "        vertical-align: middle;\n",
       "    }\n",
       "\n",
       "    .dataframe tbody tr th {\n",
       "        vertical-align: top;\n",
       "    }\n",
       "\n",
       "    .dataframe thead th {\n",
       "        text-align: right;\n",
       "    }\n",
       "</style>\n",
       "<table border=\"1\" class=\"dataframe\">\n",
       "  <thead>\n",
       "    <tr style=\"text-align: right;\">\n",
       "      <th></th>\n",
       "      <th>Code</th>\n",
       "      <th>Name</th>\n",
       "      <th>Continent</th>\n",
       "      <th>Region</th>\n",
       "      <th>SurfaceArea</th>\n",
       "      <th>IndepYear</th>\n",
       "      <th>Population</th>\n",
       "      <th>LifeExpectancy</th>\n",
       "      <th>GNP</th>\n",
       "      <th>GNPOld</th>\n",
       "      <th>LocalName</th>\n",
       "      <th>GovernmentForm</th>\n",
       "      <th>HeadOfState</th>\n",
       "      <th>Capital</th>\n",
       "      <th>Code2</th>\n",
       "    </tr>\n",
       "  </thead>\n",
       "  <tbody>\n",
       "    <tr>\n",
       "      <th>1</th>\n",
       "      <td>AFG</td>\n",
       "      <td>Afghanistan</td>\n",
       "      <td>Asia</td>\n",
       "      <td>Southern and Central Asia</td>\n",
       "      <td>652090.00</td>\n",
       "      <td>1919.0</td>\n",
       "      <td>22720000</td>\n",
       "      <td>45.9</td>\n",
       "      <td>5976.00</td>\n",
       "      <td>None</td>\n",
       "      <td>Afganistan/Afqanestan</td>\n",
       "      <td>Islamic Emirate</td>\n",
       "      <td>Mohammad Omar</td>\n",
       "      <td>1.0</td>\n",
       "      <td>AF</td>\n",
       "    </tr>\n",
       "    <tr>\n",
       "      <th>211</th>\n",
       "      <td>TMP</td>\n",
       "      <td>East Timor</td>\n",
       "      <td>Asia</td>\n",
       "      <td>Southeast Asia</td>\n",
       "      <td>14874.00</td>\n",
       "      <td>NaN</td>\n",
       "      <td>885000</td>\n",
       "      <td>46.0</td>\n",
       "      <td>0.00</td>\n",
       "      <td>None</td>\n",
       "      <td>Timor Timur</td>\n",
       "      <td>Administrated by the UN</td>\n",
       "      <td>José Alexandre Gusmão</td>\n",
       "      <td>1522.0</td>\n",
       "      <td>TP</td>\n",
       "    </tr>\n",
       "  </tbody>\n",
       "</table>\n",
       "</div>"
      ],
      "text/plain": [
       "    Code         Name Continent                     Region SurfaceArea  \\\n",
       "1    AFG  Afghanistan      Asia  Southern and Central Asia   652090.00   \n",
       "211  TMP   East Timor      Asia             Southeast Asia    14874.00   \n",
       "\n",
       "     IndepYear  Population LifeExpectancy      GNP GNPOld  \\\n",
       "1       1919.0    22720000           45.9  5976.00   None   \n",
       "211        NaN      885000           46.0     0.00   None   \n",
       "\n",
       "                 LocalName           GovernmentForm            HeadOfState  \\\n",
       "1    Afganistan/Afqanestan          Islamic Emirate          Mohammad Omar   \n",
       "211            Timor Timur  Administrated by the UN  José Alexandre Gusmão   \n",
       "\n",
       "     Capital Code2  \n",
       "1        1.0    AF  \n",
       "211   1522.0    TP  "
      ]
     },
     "execution_count": 91,
     "metadata": {},
     "output_type": "execute_result"
    }
   ],
   "source": [
    "Asia = country[country['Continent']=='Asia']\n",
    "Asia[(Asia['LifeExpectancy']>upper) | (Asia['LifeExpectancy']<lower)]"
   ]
  },
  {
   "cell_type": "markdown",
   "metadata": {},
   "source": [
    "karena nilai upper whisker 87.7, sedangkan maksimal dari LifeExpectanct adalah 83.5\n",
    "\n",
    "maka TIDAK ADA negara yang memiliki harapan hidup diatas outliers"
   ]
  },
  {
   "cell_type": "markdown",
   "metadata": {},
   "source": [
    "# no.5"
   ]
  },
  {
   "cell_type": "code",
   "execution_count": 95,
   "metadata": {},
   "outputs": [
    {
     "name": "stdout",
     "output_type": "stream",
     "text": [
      "<class 'pandas.core.frame.DataFrame'>\n",
      "RangeIndex: 239 entries, 0 to 238\n",
      "Data columns (total 15 columns):\n",
      " #   Column          Non-Null Count  Dtype  \n",
      "---  ------          --------------  -----  \n",
      " 0   Code            239 non-null    object \n",
      " 1   Name            239 non-null    object \n",
      " 2   Continent       239 non-null    object \n",
      " 3   Region          239 non-null    object \n",
      " 4   SurfaceArea     239 non-null    object \n",
      " 5   IndepYear       192 non-null    float64\n",
      " 6   Population      239 non-null    int64  \n",
      " 7   LifeExpectancy  222 non-null    object \n",
      " 8   GNP             239 non-null    object \n",
      " 9   GNPOld          178 non-null    object \n",
      " 10  LocalName       239 non-null    object \n",
      " 11  GovernmentForm  239 non-null    object \n",
      " 12  HeadOfState     238 non-null    object \n",
      " 13  Capital         232 non-null    float64\n",
      " 14  Code2           239 non-null    object \n",
      "dtypes: float64(2), int64(1), object(12)\n",
      "memory usage: 28.1+ KB\n"
     ]
    }
   ],
   "source": [
    "country['GNP'] = country['GNP']*1000000\n",
    "df_life = df_life.astype(float)\n",
    "\n",
    "country.info()"
   ]
  },
  {
   "cell_type": "code",
   "execution_count": 100,
   "metadata": {},
   "outputs": [
    {
     "data": {
      "text/plain": [
       "count      239\n",
       "unique     214\n",
       "top       0.00\n",
       "freq        24\n",
       "Name: GNP, dtype: object"
      ]
     },
     "execution_count": 100,
     "metadata": {},
     "output_type": "execute_result"
    }
   ],
   "source": [
    "country['GNP'].describe()"
   ]
  },
  {
   "cell_type": "code",
   "execution_count": 101,
   "metadata": {},
   "outputs": [],
   "source": [
    "country['GNP'] = country['GNP'].astype(float)"
   ]
  },
  {
   "cell_type": "code",
   "execution_count": 103,
   "metadata": {},
   "outputs": [
    {
     "data": {
      "text/plain": [
       "count    2.390000e+02\n",
       "mean     1.228239e+23\n",
       "std      6.379976e+23\n",
       "min      0.000000e+00\n",
       "25%      6.400000e+20\n",
       "50%      4.787000e+21\n",
       "75%      2.994450e+22\n",
       "max      8.510700e+24\n",
       "Name: GNP, dtype: float64"
      ]
     },
     "execution_count": 103,
     "metadata": {},
     "output_type": "execute_result"
    }
   ],
   "source": [
    "country['GNP'].describe()"
   ]
  },
  {
   "cell_type": "code",
   "execution_count": 105,
   "metadata": {},
   "outputs": [
    {
     "data": {
      "text/html": [
       "<div>\n",
       "<style scoped>\n",
       "    .dataframe tbody tr th:only-of-type {\n",
       "        vertical-align: middle;\n",
       "    }\n",
       "\n",
       "    .dataframe tbody tr th {\n",
       "        vertical-align: top;\n",
       "    }\n",
       "\n",
       "    .dataframe thead th {\n",
       "        text-align: right;\n",
       "    }\n",
       "</style>\n",
       "<table border=\"1\" class=\"dataframe\">\n",
       "  <thead>\n",
       "    <tr style=\"text-align: right;\">\n",
       "      <th></th>\n",
       "      <th>Code</th>\n",
       "      <th>Name</th>\n",
       "      <th>Continent</th>\n",
       "      <th>Region</th>\n",
       "      <th>SurfaceArea</th>\n",
       "      <th>IndepYear</th>\n",
       "      <th>Population</th>\n",
       "      <th>LifeExpectancy</th>\n",
       "      <th>GNP</th>\n",
       "      <th>GNPOld</th>\n",
       "      <th>LocalName</th>\n",
       "      <th>GovernmentForm</th>\n",
       "      <th>HeadOfState</th>\n",
       "      <th>Capital</th>\n",
       "      <th>Code2</th>\n",
       "    </tr>\n",
       "  </thead>\n",
       "  <tbody>\n",
       "    <tr>\n",
       "      <th>0</th>\n",
       "      <td>ABW</td>\n",
       "      <td>Aruba</td>\n",
       "      <td>North America</td>\n",
       "      <td>Caribbean</td>\n",
       "      <td>193.00</td>\n",
       "      <td>NaN</td>\n",
       "      <td>103000</td>\n",
       "      <td>78.4</td>\n",
       "      <td>8.280000e+20</td>\n",
       "      <td>793.00</td>\n",
       "      <td>Aruba</td>\n",
       "      <td>Nonmetropolitan Territory of The Netherlands</td>\n",
       "      <td>Beatrix</td>\n",
       "      <td>129.0</td>\n",
       "      <td>AW</td>\n",
       "    </tr>\n",
       "    <tr>\n",
       "      <th>1</th>\n",
       "      <td>AFG</td>\n",
       "      <td>Afghanistan</td>\n",
       "      <td>Asia</td>\n",
       "      <td>Southern and Central Asia</td>\n",
       "      <td>652090.00</td>\n",
       "      <td>1919.0</td>\n",
       "      <td>22720000</td>\n",
       "      <td>45.9</td>\n",
       "      <td>5.976000e+21</td>\n",
       "      <td>None</td>\n",
       "      <td>Afganistan/Afqanestan</td>\n",
       "      <td>Islamic Emirate</td>\n",
       "      <td>Mohammad Omar</td>\n",
       "      <td>1.0</td>\n",
       "      <td>AF</td>\n",
       "    </tr>\n",
       "    <tr>\n",
       "      <th>2</th>\n",
       "      <td>AGO</td>\n",
       "      <td>Angola</td>\n",
       "      <td>Africa</td>\n",
       "      <td>Central Africa</td>\n",
       "      <td>1246700.00</td>\n",
       "      <td>1975.0</td>\n",
       "      <td>12878000</td>\n",
       "      <td>38.3</td>\n",
       "      <td>6.648000e+21</td>\n",
       "      <td>7984.00</td>\n",
       "      <td>Angola</td>\n",
       "      <td>Republic</td>\n",
       "      <td>José Eduardo dos Santos</td>\n",
       "      <td>56.0</td>\n",
       "      <td>AO</td>\n",
       "    </tr>\n",
       "  </tbody>\n",
       "</table>\n",
       "</div>"
      ],
      "text/plain": [
       "  Code         Name      Continent                     Region SurfaceArea  \\\n",
       "0  ABW        Aruba  North America                  Caribbean      193.00   \n",
       "1  AFG  Afghanistan           Asia  Southern and Central Asia   652090.00   \n",
       "2  AGO       Angola         Africa             Central Africa  1246700.00   \n",
       "\n",
       "   IndepYear  Population LifeExpectancy           GNP   GNPOld  \\\n",
       "0        NaN      103000           78.4  8.280000e+20   793.00   \n",
       "1     1919.0    22720000           45.9  5.976000e+21     None   \n",
       "2     1975.0    12878000           38.3  6.648000e+21  7984.00   \n",
       "\n",
       "               LocalName                                GovernmentForm  \\\n",
       "0                  Aruba  Nonmetropolitan Territory of The Netherlands   \n",
       "1  Afganistan/Afqanestan                               Islamic Emirate   \n",
       "2                 Angola                                      Republic   \n",
       "\n",
       "               HeadOfState  Capital Code2  \n",
       "0                  Beatrix    129.0    AW  \n",
       "1            Mohammad Omar      1.0    AF  \n",
       "2  José Eduardo dos Santos     56.0    AO  "
      ]
     },
     "execution_count": 105,
     "metadata": {},
     "output_type": "execute_result"
    }
   ],
   "source": [
    "country.head(3)"
   ]
  },
  {
   "cell_type": "code",
   "execution_count": 107,
   "metadata": {},
   "outputs": [
    {
     "data": {
      "text/html": [
       "<div>\n",
       "<style scoped>\n",
       "    .dataframe tbody tr th:only-of-type {\n",
       "        vertical-align: middle;\n",
       "    }\n",
       "\n",
       "    .dataframe tbody tr th {\n",
       "        vertical-align: top;\n",
       "    }\n",
       "\n",
       "    .dataframe thead th {\n",
       "        text-align: right;\n",
       "    }\n",
       "</style>\n",
       "<table border=\"1\" class=\"dataframe\">\n",
       "  <thead>\n",
       "    <tr style=\"text-align: right;\">\n",
       "      <th></th>\n",
       "      <th>Code</th>\n",
       "      <th>Name</th>\n",
       "      <th>Continent</th>\n",
       "      <th>Region</th>\n",
       "      <th>SurfaceArea</th>\n",
       "      <th>IndepYear</th>\n",
       "      <th>Population</th>\n",
       "      <th>LifeExpectancy</th>\n",
       "      <th>GNP</th>\n",
       "      <th>GNPOld</th>\n",
       "      <th>LocalName</th>\n",
       "      <th>GovernmentForm</th>\n",
       "      <th>HeadOfState</th>\n",
       "      <th>Capital</th>\n",
       "      <th>Code2</th>\n",
       "      <th>GNPPerCapita</th>\n",
       "    </tr>\n",
       "  </thead>\n",
       "  <tbody>\n",
       "    <tr>\n",
       "      <th>0</th>\n",
       "      <td>ABW</td>\n",
       "      <td>Aruba</td>\n",
       "      <td>North America</td>\n",
       "      <td>Caribbean</td>\n",
       "      <td>193.00</td>\n",
       "      <td>NaN</td>\n",
       "      <td>103000</td>\n",
       "      <td>78.4</td>\n",
       "      <td>8.280000e+20</td>\n",
       "      <td>793.00</td>\n",
       "      <td>Aruba</td>\n",
       "      <td>Nonmetropolitan Territory of The Netherlands</td>\n",
       "      <td>Beatrix</td>\n",
       "      <td>129.0</td>\n",
       "      <td>AW</td>\n",
       "      <td>8.038835e+15</td>\n",
       "    </tr>\n",
       "    <tr>\n",
       "      <th>1</th>\n",
       "      <td>AFG</td>\n",
       "      <td>Afghanistan</td>\n",
       "      <td>Asia</td>\n",
       "      <td>Southern and Central Asia</td>\n",
       "      <td>652090.00</td>\n",
       "      <td>1919.0</td>\n",
       "      <td>22720000</td>\n",
       "      <td>45.9</td>\n",
       "      <td>5.976000e+21</td>\n",
       "      <td>None</td>\n",
       "      <td>Afganistan/Afqanestan</td>\n",
       "      <td>Islamic Emirate</td>\n",
       "      <td>Mohammad Omar</td>\n",
       "      <td>1.0</td>\n",
       "      <td>AF</td>\n",
       "      <td>2.630282e+14</td>\n",
       "    </tr>\n",
       "    <tr>\n",
       "      <th>2</th>\n",
       "      <td>AGO</td>\n",
       "      <td>Angola</td>\n",
       "      <td>Africa</td>\n",
       "      <td>Central Africa</td>\n",
       "      <td>1246700.00</td>\n",
       "      <td>1975.0</td>\n",
       "      <td>12878000</td>\n",
       "      <td>38.3</td>\n",
       "      <td>6.648000e+21</td>\n",
       "      <td>7984.00</td>\n",
       "      <td>Angola</td>\n",
       "      <td>Republic</td>\n",
       "      <td>José Eduardo dos Santos</td>\n",
       "      <td>56.0</td>\n",
       "      <td>AO</td>\n",
       "      <td>5.162292e+14</td>\n",
       "    </tr>\n",
       "    <tr>\n",
       "      <th>3</th>\n",
       "      <td>AIA</td>\n",
       "      <td>Anguilla</td>\n",
       "      <td>North America</td>\n",
       "      <td>Caribbean</td>\n",
       "      <td>96.00</td>\n",
       "      <td>NaN</td>\n",
       "      <td>8000</td>\n",
       "      <td>76.1</td>\n",
       "      <td>6.320000e+19</td>\n",
       "      <td>None</td>\n",
       "      <td>Anguilla</td>\n",
       "      <td>Dependent Territory of the UK</td>\n",
       "      <td>Elisabeth II</td>\n",
       "      <td>62.0</td>\n",
       "      <td>AI</td>\n",
       "      <td>7.900000e+15</td>\n",
       "    </tr>\n",
       "    <tr>\n",
       "      <th>4</th>\n",
       "      <td>ALB</td>\n",
       "      <td>Albania</td>\n",
       "      <td>Europe</td>\n",
       "      <td>Southern Europe</td>\n",
       "      <td>28748.00</td>\n",
       "      <td>1912.0</td>\n",
       "      <td>3401200</td>\n",
       "      <td>71.6</td>\n",
       "      <td>3.205000e+21</td>\n",
       "      <td>2500.00</td>\n",
       "      <td>Shqipëria</td>\n",
       "      <td>Republic</td>\n",
       "      <td>Rexhep Mejdani</td>\n",
       "      <td>34.0</td>\n",
       "      <td>AL</td>\n",
       "      <td>9.423145e+14</td>\n",
       "    </tr>\n",
       "  </tbody>\n",
       "</table>\n",
       "</div>"
      ],
      "text/plain": [
       "  Code         Name      Continent                     Region SurfaceArea  \\\n",
       "0  ABW        Aruba  North America                  Caribbean      193.00   \n",
       "1  AFG  Afghanistan           Asia  Southern and Central Asia   652090.00   \n",
       "2  AGO       Angola         Africa             Central Africa  1246700.00   \n",
       "3  AIA     Anguilla  North America                  Caribbean       96.00   \n",
       "4  ALB      Albania         Europe            Southern Europe    28748.00   \n",
       "\n",
       "   IndepYear  Population LifeExpectancy           GNP   GNPOld  \\\n",
       "0        NaN      103000           78.4  8.280000e+20   793.00   \n",
       "1     1919.0    22720000           45.9  5.976000e+21     None   \n",
       "2     1975.0    12878000           38.3  6.648000e+21  7984.00   \n",
       "3        NaN        8000           76.1  6.320000e+19     None   \n",
       "4     1912.0     3401200           71.6  3.205000e+21  2500.00   \n",
       "\n",
       "               LocalName                                GovernmentForm  \\\n",
       "0                  Aruba  Nonmetropolitan Territory of The Netherlands   \n",
       "1  Afganistan/Afqanestan                               Islamic Emirate   \n",
       "2                 Angola                                      Republic   \n",
       "3               Anguilla                 Dependent Territory of the UK   \n",
       "4              Shqipëria                                      Republic   \n",
       "\n",
       "               HeadOfState  Capital Code2  GNPPerCapita  \n",
       "0                  Beatrix    129.0    AW  8.038835e+15  \n",
       "1            Mohammad Omar      1.0    AF  2.630282e+14  \n",
       "2  José Eduardo dos Santos     56.0    AO  5.162292e+14  \n",
       "3             Elisabeth II     62.0    AI  7.900000e+15  \n",
       "4           Rexhep Mejdani     34.0    AL  9.423145e+14  "
      ]
     },
     "execution_count": 107,
     "metadata": {},
     "output_type": "execute_result"
    }
   ],
   "source": [
    "def percapita(GNP, POP):\n",
    "    return GNP / POP\n",
    "GNP_Percapita = percapita(country['GNP'], country['Population'])\n",
    "country['GNPPerCapita'] = GNP_Percapita\n",
    "country.head(5)"
   ]
  },
  {
   "cell_type": "markdown",
   "metadata": {},
   "source": [
    "# no.6"
   ]
  },
  {
   "cell_type": "code",
   "execution_count": 116,
   "metadata": {},
   "outputs": [
    {
     "name": "stdout",
     "output_type": "stream",
     "text": [
      "<class 'pandas.core.frame.DataFrame'>\n",
      "RangeIndex: 239 entries, 0 to 238\n",
      "Data columns (total 16 columns):\n",
      " #   Column          Non-Null Count  Dtype  \n",
      "---  ------          --------------  -----  \n",
      " 0   Code            239 non-null    object \n",
      " 1   Name            239 non-null    object \n",
      " 2   Continent       239 non-null    object \n",
      " 3   Region          239 non-null    object \n",
      " 4   SurfaceArea     239 non-null    object \n",
      " 5   IndepYear       192 non-null    float64\n",
      " 6   Population      239 non-null    int64  \n",
      " 7   LifeExpectancy  222 non-null    object \n",
      " 8   GNP             239 non-null    float64\n",
      " 9   GNPOld          178 non-null    object \n",
      " 10  LocalName       239 non-null    object \n",
      " 11  GovernmentForm  239 non-null    object \n",
      " 12  HeadOfState     238 non-null    object \n",
      " 13  Capital         232 non-null    float64\n",
      " 14  Code2           239 non-null    object \n",
      " 15  GNPPerCapita    232 non-null    float64\n",
      "dtypes: float64(4), int64(1), object(11)\n",
      "memory usage: 30.0+ KB\n"
     ]
    }
   ],
   "source": [
    "country.info()"
   ]
  },
  {
   "cell_type": "code",
   "execution_count": 118,
   "metadata": {},
   "outputs": [
    {
     "name": "stdout",
     "output_type": "stream",
     "text": [
      "<class 'pandas.core.frame.DataFrame'>\n",
      "RangeIndex: 239 entries, 0 to 238\n",
      "Data columns (total 16 columns):\n",
      " #   Column          Non-Null Count  Dtype  \n",
      "---  ------          --------------  -----  \n",
      " 0   Code            239 non-null    object \n",
      " 1   Name            239 non-null    object \n",
      " 2   Continent       239 non-null    object \n",
      " 3   Region          239 non-null    object \n",
      " 4   SurfaceArea     239 non-null    object \n",
      " 5   IndepYear       192 non-null    float64\n",
      " 6   Population      239 non-null    int64  \n",
      " 7   LifeExpectancy  222 non-null    float64\n",
      " 8   GNP             239 non-null    float64\n",
      " 9   GNPOld          178 non-null    object \n",
      " 10  LocalName       239 non-null    object \n",
      " 11  GovernmentForm  239 non-null    object \n",
      " 12  HeadOfState     238 non-null    object \n",
      " 13  Capital         232 non-null    float64\n",
      " 14  Code2           239 non-null    object \n",
      " 15  GNPPerCapita    232 non-null    float64\n",
      "dtypes: float64(5), int64(1), object(10)\n",
      "memory usage: 30.0+ KB\n"
     ]
    }
   ],
   "source": [
    "country['LifeExpectancy'] = country['LifeExpectancy'].astype(float)\n",
    "country.info()"
   ]
  },
  {
   "cell_type": "code",
   "execution_count": 119,
   "metadata": {},
   "outputs": [
    {
     "data": {
      "text/plain": [
       "0.7451212078375073"
      ]
     },
     "execution_count": 119,
     "metadata": {},
     "output_type": "execute_result"
    }
   ],
   "source": [
    "country['LifeExpectancy'].corr(country['GNPPerCapita'],method='spearman')"
   ]
  },
  {
   "cell_type": "code",
   "execution_count": 120,
   "metadata": {},
   "outputs": [
    {
     "data": {
      "image/png": "[encoded data removed]",
      "text/plain": [
       "<Figure size 720x576 with 1 Axes>"
      ]
     },
     "metadata": {},
     "output_type": "display_data"
    }
   ],
   "source": [
    "plt.figure(figsize=(10,8))\n",
    "ax = sns.regplot(x=\"LifeExpectancy\", y=\"GNPPerCapita\", data=country, ci=None,\n",
    "                 line_kws={'color':'red'})"
   ]
  },
  {
   "cell_type": "markdown",
   "metadata": {},
   "source": [
    "Untuk soal nomor 6, saya setuju, karena bisa dilihat di angka korelasi dan char hubungan antara Population dan GNP per Capita, hubungan keduanya memiliki korelasi positif dan lumayan tinggi."
   ]
  },
  {
   "cell_type": "code",
   "execution_count": 125,
   "metadata": {},
   "outputs": [
    {
     "data": {
      "text/plain": [
       "3.745926095937572e+16"
      ]
     },
     "execution_count": 125,
     "metadata": {},
     "output_type": "execute_result"
    }
   ],
   "source": [
    "dfCountrymax = country['GNPPerCapita'].max()\n",
    "dfCountrymax"
   ]
  },
  {
   "cell_type": "code",
   "execution_count": 123,
   "metadata": {},
   "outputs": [
    {
     "name": "stdout",
     "output_type": "stream",
     "text": [
      "Nama negara dengan GNP per Capita tertinggi: Aruba\n",
      "Berada di Benua: North America\n"
     ]
    }
   ],
   "source": [
    "dfCountry1 = country.sort_values('GNPPerCapita', ascending = False)\n",
    "dfCountrybest = country.head()\n",
    "\n",
    "dfnegara = dfCountrybest.iloc[0]['Name']\n",
    "dfbenua = dfCountrybest.iloc[0]['Continent']\n",
    "\n",
    "print(f'Nama negara dengan GNP per Capita tertinggi: {dfnegara}')\n",
    "print(f'Berada di Benua: {dfbenua}')"
   ]
  },
  {
   "cell_type": "markdown",
   "metadata": {},
   "source": [
    "# no.7"
   ]
  },
  {
   "cell_type": "code",
   "execution_count": 129,
   "metadata": {},
   "outputs": [
    {
     "data": {
      "text/html": [
       "<div>\n",
       "<style scoped>\n",
       "    .dataframe tbody tr th:only-of-type {\n",
       "        vertical-align: middle;\n",
       "    }\n",
       "\n",
       "    .dataframe tbody tr th {\n",
       "        vertical-align: top;\n",
       "    }\n",
       "\n",
       "    .dataframe thead th {\n",
       "        text-align: right;\n",
       "    }\n",
       "</style>\n",
       "<table border=\"1\" class=\"dataframe\">\n",
       "  <thead>\n",
       "    <tr style=\"text-align: right;\">\n",
       "      <th></th>\n",
       "      <th>Code</th>\n",
       "      <th>Name</th>\n",
       "      <th>Continent</th>\n",
       "      <th>Region</th>\n",
       "      <th>SurfaceArea</th>\n",
       "      <th>IndepYear</th>\n",
       "      <th>Population</th>\n",
       "      <th>LifeExpectancy</th>\n",
       "      <th>GNP</th>\n",
       "      <th>GNPOld</th>\n",
       "      <th>LocalName</th>\n",
       "      <th>GovernmentForm</th>\n",
       "      <th>HeadOfState</th>\n",
       "      <th>Capital</th>\n",
       "      <th>Code2</th>\n",
       "      <th>GNPPerCapita</th>\n",
       "    </tr>\n",
       "  </thead>\n",
       "  <tbody>\n",
       "    <tr>\n",
       "      <th>0</th>\n",
       "      <td>ABW</td>\n",
       "      <td>Aruba</td>\n",
       "      <td>North America</td>\n",
       "      <td>Caribbean</td>\n",
       "      <td>193.00</td>\n",
       "      <td>NaN</td>\n",
       "      <td>103000</td>\n",
       "      <td>78.4</td>\n",
       "      <td>8.280000e+20</td>\n",
       "      <td>793.00</td>\n",
       "      <td>Aruba</td>\n",
       "      <td>Nonmetropolitan Territory of The Netherlands</td>\n",
       "      <td>Beatrix</td>\n",
       "      <td>129.0</td>\n",
       "      <td>AW</td>\n",
       "      <td>8.038835e+15</td>\n",
       "    </tr>\n",
       "    <tr>\n",
       "      <th>1</th>\n",
       "      <td>AFG</td>\n",
       "      <td>Afghanistan</td>\n",
       "      <td>Asia</td>\n",
       "      <td>Southern and Central Asia</td>\n",
       "      <td>652090.00</td>\n",
       "      <td>1919.0</td>\n",
       "      <td>22720000</td>\n",
       "      <td>45.9</td>\n",
       "      <td>5.976000e+21</td>\n",
       "      <td>None</td>\n",
       "      <td>Afganistan/Afqanestan</td>\n",
       "      <td>Islamic Emirate</td>\n",
       "      <td>Mohammad Omar</td>\n",
       "      <td>1.0</td>\n",
       "      <td>AF</td>\n",
       "      <td>2.630282e+14</td>\n",
       "    </tr>\n",
       "    <tr>\n",
       "      <th>2</th>\n",
       "      <td>AGO</td>\n",
       "      <td>Angola</td>\n",
       "      <td>Africa</td>\n",
       "      <td>Central Africa</td>\n",
       "      <td>1246700.00</td>\n",
       "      <td>1975.0</td>\n",
       "      <td>12878000</td>\n",
       "      <td>38.3</td>\n",
       "      <td>6.648000e+21</td>\n",
       "      <td>7984.00</td>\n",
       "      <td>Angola</td>\n",
       "      <td>Republic</td>\n",
       "      <td>José Eduardo dos Santos</td>\n",
       "      <td>56.0</td>\n",
       "      <td>AO</td>\n",
       "      <td>5.162292e+14</td>\n",
       "    </tr>\n",
       "    <tr>\n",
       "      <th>3</th>\n",
       "      <td>AIA</td>\n",
       "      <td>Anguilla</td>\n",
       "      <td>North America</td>\n",
       "      <td>Caribbean</td>\n",
       "      <td>96.00</td>\n",
       "      <td>NaN</td>\n",
       "      <td>8000</td>\n",
       "      <td>76.1</td>\n",
       "      <td>6.320000e+19</td>\n",
       "      <td>None</td>\n",
       "      <td>Anguilla</td>\n",
       "      <td>Dependent Territory of the UK</td>\n",
       "      <td>Elisabeth II</td>\n",
       "      <td>62.0</td>\n",
       "      <td>AI</td>\n",
       "      <td>7.900000e+15</td>\n",
       "    </tr>\n",
       "    <tr>\n",
       "      <th>4</th>\n",
       "      <td>ALB</td>\n",
       "      <td>Albania</td>\n",
       "      <td>Europe</td>\n",
       "      <td>Southern Europe</td>\n",
       "      <td>28748.00</td>\n",
       "      <td>1912.0</td>\n",
       "      <td>3401200</td>\n",
       "      <td>71.6</td>\n",
       "      <td>3.205000e+21</td>\n",
       "      <td>2500.00</td>\n",
       "      <td>Shqipëria</td>\n",
       "      <td>Republic</td>\n",
       "      <td>Rexhep Mejdani</td>\n",
       "      <td>34.0</td>\n",
       "      <td>AL</td>\n",
       "      <td>9.423145e+14</td>\n",
       "    </tr>\n",
       "  </tbody>\n",
       "</table>\n",
       "</div>"
      ],
      "text/plain": [
       "  Code         Name      Continent                     Region SurfaceArea  \\\n",
       "0  ABW        Aruba  North America                  Caribbean      193.00   \n",
       "1  AFG  Afghanistan           Asia  Southern and Central Asia   652090.00   \n",
       "2  AGO       Angola         Africa             Central Africa  1246700.00   \n",
       "3  AIA     Anguilla  North America                  Caribbean       96.00   \n",
       "4  ALB      Albania         Europe            Southern Europe    28748.00   \n",
       "\n",
       "   IndepYear  Population  LifeExpectancy           GNP   GNPOld  \\\n",
       "0        NaN      103000            78.4  8.280000e+20   793.00   \n",
       "1     1919.0    22720000            45.9  5.976000e+21     None   \n",
       "2     1975.0    12878000            38.3  6.648000e+21  7984.00   \n",
       "3        NaN        8000            76.1  6.320000e+19     None   \n",
       "4     1912.0     3401200            71.6  3.205000e+21  2500.00   \n",
       "\n",
       "               LocalName                                GovernmentForm  \\\n",
       "0                  Aruba  Nonmetropolitan Territory of The Netherlands   \n",
       "1  Afganistan/Afqanestan                               Islamic Emirate   \n",
       "2                 Angola                                      Republic   \n",
       "3               Anguilla                 Dependent Territory of the UK   \n",
       "4              Shqipëria                                      Republic   \n",
       "\n",
       "               HeadOfState  Capital Code2  GNPPerCapita  \n",
       "0                  Beatrix    129.0    AW  8.038835e+15  \n",
       "1            Mohammad Omar      1.0    AF  2.630282e+14  \n",
       "2  José Eduardo dos Santos     56.0    AO  5.162292e+14  \n",
       "3             Elisabeth II     62.0    AI  7.900000e+15  \n",
       "4           Rexhep Mejdani     34.0    AL  9.423145e+14  "
      ]
     },
     "execution_count": 129,
     "metadata": {},
     "output_type": "execute_result"
    }
   ],
   "source": [
    "country.head(5)"
   ]
  },
  {
   "cell_type": "code",
   "execution_count": 159,
   "metadata": {},
   "outputs": [
    {
     "data": {
      "text/html": [
       "<div>\n",
       "<style scoped>\n",
       "    .dataframe tbody tr th:only-of-type {\n",
       "        vertical-align: middle;\n",
       "    }\n",
       "\n",
       "    .dataframe tbody tr th {\n",
       "        vertical-align: top;\n",
       "    }\n",
       "\n",
       "    .dataframe thead th {\n",
       "        text-align: right;\n",
       "    }\n",
       "</style>\n",
       "<table border=\"1\" class=\"dataframe\">\n",
       "  <thead>\n",
       "    <tr style=\"text-align: right;\">\n",
       "      <th></th>\n",
       "      <th>Code</th>\n",
       "      <th>Name</th>\n",
       "      <th>Continent</th>\n",
       "      <th>Region</th>\n",
       "      <th>SurfaceArea</th>\n",
       "      <th>IndepYear</th>\n",
       "      <th>Population</th>\n",
       "      <th>LifeExpectancy</th>\n",
       "      <th>GNP</th>\n",
       "      <th>GNPOld</th>\n",
       "      <th>LocalName</th>\n",
       "      <th>GovernmentForm</th>\n",
       "      <th>HeadOfState</th>\n",
       "      <th>Capital</th>\n",
       "      <th>Code2</th>\n",
       "      <th>GNPPerCapita</th>\n",
       "    </tr>\n",
       "  </thead>\n",
       "  <tbody>\n",
       "    <tr>\n",
       "      <th>4</th>\n",
       "      <td>ALB</td>\n",
       "      <td>Albania</td>\n",
       "      <td>Europe</td>\n",
       "      <td>Southern Europe</td>\n",
       "      <td>28748.00</td>\n",
       "      <td>1912.0</td>\n",
       "      <td>3401200</td>\n",
       "      <td>71.6</td>\n",
       "      <td>3.205000e+21</td>\n",
       "      <td>2500.00</td>\n",
       "      <td>Shqipëria</td>\n",
       "      <td>Republic</td>\n",
       "      <td>Rexhep Mejdani</td>\n",
       "      <td>34.0</td>\n",
       "      <td>AL</td>\n",
       "      <td>9.423145e+14</td>\n",
       "    </tr>\n",
       "    <tr>\n",
       "      <th>5</th>\n",
       "      <td>AND</td>\n",
       "      <td>Andorra</td>\n",
       "      <td>Europe</td>\n",
       "      <td>Southern Europe</td>\n",
       "      <td>468.00</td>\n",
       "      <td>1278.0</td>\n",
       "      <td>78000</td>\n",
       "      <td>83.5</td>\n",
       "      <td>1.630000e+21</td>\n",
       "      <td>None</td>\n",
       "      <td>Andorra</td>\n",
       "      <td>Parliamentary Coprincipality</td>\n",
       "      <td></td>\n",
       "      <td>55.0</td>\n",
       "      <td>AD</td>\n",
       "      <td>2.089744e+16</td>\n",
       "    </tr>\n",
       "    <tr>\n",
       "      <th>15</th>\n",
       "      <td>AUT</td>\n",
       "      <td>Austria</td>\n",
       "      <td>Europe</td>\n",
       "      <td>Western Europe</td>\n",
       "      <td>83859.00</td>\n",
       "      <td>1918.0</td>\n",
       "      <td>8091800</td>\n",
       "      <td>77.7</td>\n",
       "      <td>2.118600e+23</td>\n",
       "      <td>206025.00</td>\n",
       "      <td>Österreich</td>\n",
       "      <td>Federal Republic</td>\n",
       "      <td>Thomas Klestil</td>\n",
       "      <td>1523.0</td>\n",
       "      <td>AT</td>\n",
       "      <td>2.618206e+16</td>\n",
       "    </tr>\n",
       "    <tr>\n",
       "      <th>18</th>\n",
       "      <td>BEL</td>\n",
       "      <td>Belgium</td>\n",
       "      <td>Europe</td>\n",
       "      <td>Western Europe</td>\n",
       "      <td>30518.00</td>\n",
       "      <td>1830.0</td>\n",
       "      <td>10239000</td>\n",
       "      <td>77.8</td>\n",
       "      <td>2.497040e+23</td>\n",
       "      <td>243948.00</td>\n",
       "      <td>België/Belgique</td>\n",
       "      <td>Constitutional Monarchy, Federation</td>\n",
       "      <td>Albert II</td>\n",
       "      <td>179.0</td>\n",
       "      <td>BE</td>\n",
       "      <td>2.438754e+16</td>\n",
       "    </tr>\n",
       "    <tr>\n",
       "      <th>22</th>\n",
       "      <td>BGR</td>\n",
       "      <td>Bulgaria</td>\n",
       "      <td>Europe</td>\n",
       "      <td>Eastern Europe</td>\n",
       "      <td>110994.00</td>\n",
       "      <td>1908.0</td>\n",
       "      <td>8190900</td>\n",
       "      <td>70.9</td>\n",
       "      <td>1.217800e+22</td>\n",
       "      <td>10169.00</td>\n",
       "      <td>Balgarija</td>\n",
       "      <td>Republic</td>\n",
       "      <td>Petar Stojanov</td>\n",
       "      <td>539.0</td>\n",
       "      <td>BG</td>\n",
       "      <td>1.486772e+15</td>\n",
       "    </tr>\n",
       "  </tbody>\n",
       "</table>\n",
       "</div>"
      ],
      "text/plain": [
       "   Code      Name Continent           Region SurfaceArea  IndepYear  \\\n",
       "4   ALB   Albania    Europe  Southern Europe    28748.00     1912.0   \n",
       "5   AND   Andorra    Europe  Southern Europe      468.00     1278.0   \n",
       "15  AUT   Austria    Europe   Western Europe    83859.00     1918.0   \n",
       "18  BEL   Belgium    Europe   Western Europe    30518.00     1830.0   \n",
       "22  BGR  Bulgaria    Europe   Eastern Europe   110994.00     1908.0   \n",
       "\n",
       "    Population  LifeExpectancy           GNP     GNPOld        LocalName  \\\n",
       "4      3401200            71.6  3.205000e+21    2500.00        Shqipëria   \n",
       "5        78000            83.5  1.630000e+21       None          Andorra   \n",
       "15     8091800            77.7  2.118600e+23  206025.00       Österreich   \n",
       "18    10239000            77.8  2.497040e+23  243948.00  België/Belgique   \n",
       "22     8190900            70.9  1.217800e+22   10169.00        Balgarija   \n",
       "\n",
       "                         GovernmentForm     HeadOfState  Capital Code2  \\\n",
       "4                              Republic  Rexhep Mejdani     34.0    AL   \n",
       "5          Parliamentary Coprincipality                     55.0    AD   \n",
       "15                     Federal Republic  Thomas Klestil   1523.0    AT   \n",
       "18  Constitutional Monarchy, Federation       Albert II    179.0    BE   \n",
       "22                             Republic  Petar Stojanov    539.0    BG   \n",
       "\n",
       "    GNPPerCapita  \n",
       "4   9.423145e+14  \n",
       "5   2.089744e+16  \n",
       "15  2.618206e+16  \n",
       "18  2.438754e+16  \n",
       "22  1.486772e+15  "
      ]
     },
     "execution_count": 159,
     "metadata": {},
     "output_type": "execute_result"
    }
   ],
   "source": [
    "europe = country[country['Continent']=='Europe']\n",
    "europe.head(5)"
   ]
  },
  {
   "cell_type": "markdown",
   "metadata": {},
   "source": [
    "europe1 = europe.dropna().sort_values(['GNPOld', 'GNP'])\n",
    "europe1.head(5)"
   ]
  },
  {
   "cell_type": "code",
   "execution_count": 184,
   "metadata": {},
   "outputs": [
    {
     "data": {
      "text/plain": [
       "GNPPerCapita    5.35304e+17\n",
       "dtype: object"
      ]
     },
     "execution_count": 184,
     "metadata": {},
     "output_type": "execute_result"
    }
   ],
   "source": [
    "europe1.sum()[['GNP']]\n",
    "europe1.sum()[['GNPOld']]\n",
    "europe1.sum()[['GNPPerCapita']]"
   ]
  },
  {
   "cell_type": "code",
   "execution_count": 185,
   "metadata": {},
   "outputs": [
    {
     "data": {
      "text/plain": [
       "GNPOld    9382001.00\n",
       "dtype: object"
      ]
     },
     "execution_count": 185,
     "metadata": {},
     "output_type": "execute_result"
    }
   ],
   "source": [
    "europe1.sum()[['GNPOld']]"
   ]
  },
  {
   "cell_type": "code",
   "execution_count": 186,
   "metadata": {},
   "outputs": [
    {
     "data": {
      "text/plain": [
       "GNPPerCapita    5.35304e+17\n",
       "dtype: object"
      ]
     },
     "execution_count": 186,
     "metadata": {},
     "output_type": "execute_result"
    }
   ],
   "source": [
    "europe1.sum()[['GNPPerCapita']]"
   ]
  },
  {
   "cell_type": "code",
   "execution_count": 192,
   "metadata": {},
   "outputs": [
    {
     "data": {
      "text/plain": [
       "nan"
      ]
     },
     "execution_count": 192,
     "metadata": {},
     "output_type": "execute_result"
    }
   ],
   "source": [
    "alpha = 0.05\n",
    "fstats, pvalue = f_oneway(europe1[europe1['GNP'] == 'GNPOld']['GNPPerCapita'],\n",
    "                    europe1[europe1['GNPPerCapita'] == 'GNP']['GNPOld'])\n",
    "pvalue"
   ]
  },
  {
   "cell_type": "code",
   "execution_count": null,
   "metadata": {},
   "outputs": [],
   "source": []
  }
 ],
 "metadata": {
  "kernelspec": {
   "display_name": "Python 3",
   "language": "python",
   "name": "python3"
  },
  "language_info": {
   "codemirror_mode": {
    "name": "ipython",
    "version": 3
   },
   "file_extension": ".py",
   "mimetype": "text/x-python",
   "name": "python",
   "nbconvert_exporter": "python",
   "pygments_lexer": "ipython3",
   "version": "3.8.3"
  }
 },
 "nbformat": 4,
 "nbformat_minor": 4
}
